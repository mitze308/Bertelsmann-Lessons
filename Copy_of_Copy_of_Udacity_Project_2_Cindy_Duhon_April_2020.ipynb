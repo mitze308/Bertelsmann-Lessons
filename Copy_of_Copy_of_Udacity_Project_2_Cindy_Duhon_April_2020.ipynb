{
  "nbformat": 4,
  "nbformat_minor": 0,
  "metadata": {
    "colab": {
      "name": "Copy of Copy of Udacity Project 2 Cindy Duhon April 2020",
      "provenance": [],
      "mount_file_id": "1001P9v07wSRG1ITdDMpFzvjmptZ9zmlz",
      "authorship_tag": "ABX9TyOfZQd3slt6z2cQpvXne0kN",
      "include_colab_link": true
    },
    "kernelspec": {
      "name": "python3",
      "display_name": "Python 3"
    }
  },
  "cells": [
    {
      "cell_type": "markdown",
      "metadata": {
        "id": "view-in-github",
        "colab_type": "text"
      },
      "source": [
        "<a href=\"https://colab.research.google.com/github/mitze308/Bertelsmann-Lessons/blob/master/Copy_of_Copy_of_Udacity_Project_2_Cindy_Duhon_April_2020.ipynb\" target=\"_parent\"><img src=\"https://colab.research.google.com/assets/colab-badge.svg\" alt=\"Open In Colab\"/></a>"
      ]
    },
    {
      "cell_type": "code",
      "metadata": {
        "id": "XLyPk8kPBXKB",
        "colab_type": "code",
        "colab": {}
      },
      "source": [
        ""
      ],
      "execution_count": 0,
      "outputs": []
    },
    {
      "cell_type": "markdown",
      "metadata": {
        "id": "Gg7D7hA-G_cQ",
        "colab_type": "text"
      },
      "source": [
        "# **Introduction**\n",
        "\n",
        "Gross domestic product (GDP) is the total value of all the good produced in a country, whether its citizens or migrant workers produce it.  When economists speak of the \"size\" of the economy,ey are referring to GDP. I was interested to find out the actors that might influence a country's Gross Domestic Product as well as to see what region of the world had experienced the greatest degree of change throught the years. These were the questions that I focused on:\n",
        "\n",
        "\n",
        "\n",
        "1.   Which Region had seen the greatest change in its GDP in the year from      1900- present time\n",
        "2.   How does Infrastructure, Adult Literacy, Water for Industrial Purposes, and Economic Investment influence the Gross Domestic Production in a country?\n",
        "\n",
        "Gapminder.org/data is a non-profit database with global statistics that has turned into a phenomenal teaching tool. It was originally formed by the Rosling Family and has as its mission statement, \"Fight devasting ignorance with fact-based worldviews everyone can understand\".  I first identified my dependent  and indenpendent variables, then I downloaded the csv files from the website. I chose to focus on three countries in particular, as they were representative of three seperate regions globally, as these would not, in my mind, be influenced by common geography or weather. They were The United States, France, and China; located on North America Europe and Asia respectively. Then I began the investigation of my questions.\n",
        "\n",
        "My Dependent Variable was Gross Domestic Product (GDP) called Income per person/per capita.  It is represented as the currency of the target country depending on the year in question.\n",
        "\n",
        "My four Independent Variables were Infrastructure(Paved Roads), Education(Adult Litercy, Economy(Investments), and Environment(Industrial Diversition of Water) and how they contribte to GDP in the particular year.\n",
        "\n",
        "\n",
        "\n"
      ]
    },
    {
      "cell_type": "code",
      "metadata": {
        "id": "VeJj4frZsbjH",
        "colab_type": "code",
        "colab": {}
      },
      "source": [
        "import pandas as pd\n",
        "import numpy as np\n",
        "import matplotlib.pyplot as plt\n",
        "%matplotlib inline"
      ],
      "execution_count": 0,
      "outputs": []
    },
    {
      "cell_type": "code",
      "metadata": {
        "id": "R-5IAL9zSUpn",
        "colab_type": "code",
        "colab": {}
      },
      "source": [
        ""
      ],
      "execution_count": 0,
      "outputs": []
    },
    {
      "cell_type": "markdown",
      "metadata": {
        "id": "oOmcjOVjSWAl",
        "colab_type": "text"
      },
      "source": [
        "# **Data** **Wrangling**\n",
        "\n",
        "## **General Properties**"
      ]
    }
  ]
}